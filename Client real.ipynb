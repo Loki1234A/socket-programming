{
 "cells": [
  {
   "cell_type": "code",
   "execution_count": 1,
   "id": "02023262-ad46-4c87-ae8f-1cad7565cee2",
   "metadata": {},
   "outputs": [
    {
     "name": "stdout",
     "output_type": "stream",
     "text": [
      "Connecting to server at localhost:12478\n",
      "Connection established.\n"
     ]
    },
    {
     "name": "stdin",
     "output_type": "stream",
     "text": [
      "Enter message to send (type 'CLOSE SOCKET' to close the connection):  CLOSE SOCKET\n"
     ]
    },
    {
     "name": "stdout",
     "output_type": "stream",
     "text": [
      "Sending message: CLOSE SOCKET\n",
      "Closing connection to server.\n",
      "Client closed.\n"
     ]
    }
   ],
   "source": [
    "import socket\n",
    "\n",
    "def start_client():\n",
    "    client_socket = socket.socket(socket.AF_INET, socket.SOCK_STREAM)\n",
    "    server_address = ('localhost', 12478)\n",
    "    print(f\"Connecting to server at {server_address[0]}:{server_address[1]}\")\n",
    "\n",
    "    try:\n",
    "        client_socket.connect(server_address)\n",
    "        print(\"Connection established.\")\n",
    "\n",
    "        while True:\n",
    "            message = input(\"Enter message to send (type 'CLOSE SOCKET' to close the connection): \")\n",
    "            print(f\"Sending message: {message}\")\n",
    "            client_socket.sendall(message.encode())\n",
    "\n",
    "            if message == \"CLOSE SOCKET\":\n",
    "                print(\"Closing connection to server.\")\n",
    "                break  # Exit the loop if the user wants to close the connection\n",
    "\n",
    "            data = client_socket.recv(1024)\n",
    "            print(f\"Received uppercase message from server: {data.decode()}\")\n",
    "    except Exception as e:\n",
    "        print(f\"An error occurred: {e}\")\n",
    "    finally:\n",
    "        client_socket.close()\n",
    "        print(\"Client closed.\")\n",
    "\n",
    "if __name__ == \"__main__\":\n",
    "    start_client()"
   ]
  },
  {
   "cell_type": "code",
   "execution_count": null,
   "id": "3976453f-8e9e-4b04-8ac5-2fbb00b68bea",
   "metadata": {},
   "outputs": [],
   "source": []
  }
 ],
 "metadata": {
  "kernelspec": {
   "display_name": "Python 3 (ipykernel)",
   "language": "python",
   "name": "python3"
  },
  "language_info": {
   "codemirror_mode": {
    "name": "ipython",
    "version": 3
   },
   "file_extension": ".py",
   "mimetype": "text/x-python",
   "name": "python",
   "nbconvert_exporter": "python",
   "pygments_lexer": "ipython3",
   "version": "3.10.8"
  }
 },
 "nbformat": 4,
 "nbformat_minor": 5
}
